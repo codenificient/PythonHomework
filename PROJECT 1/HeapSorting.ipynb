{
 "cells": [
  {
   "cell_type": "markdown",
   "metadata": {},
   "source": [
    "# Comparison Heap Sort Algorithm"
   ]
  },
  {
   "cell_type": "markdown",
   "metadata": {},
   "source": [
    "### MinHeapify function inspired by Max Heap from CodersLegacy.com"
   ]
  },
  {
   "cell_type": "code",
   "execution_count": 54,
   "metadata": {},
   "outputs": [
    {
     "name": "stdout",
     "output_type": "stream",
     "text": [
      "[2, 21, 32, 54, 93, 98]\n"
     ]
    }
   ],
   "source": [
    "def BuildMinHeap(unsorted, index, heapSize):\n",
    "    largest = index\n",
    "    left = 2 * index + 1\n",
    "    right = 2 * index + 2\n",
    "    if left < heapSize and unsorted[left] > unsorted[largest]:\n",
    "        largest = left\n",
    "\n",
    "    if right < heapSize and unsorted[right] > unsorted[largest]:\n",
    "        largest = right\n",
    "\n",
    "    if largest != index:\n",
    "        unsorted[largest], unsorted[index] = unsorted[index], unsorted[largest]\n",
    "        BuildMinHeap(unsorted, largest, heapSize)\n",
    "\n",
    "\n",
    "def HeapSort(unsorted):\n",
    "    n = len(unsorted)\n",
    "    for i in range(n // 2 - 1, -1, -1):\n",
    "        BuildMinHeap(unsorted, i, n)\n",
    "    for i in range(n - 1, 0, -1):\n",
    "        unsorted[0], unsorted[i] = unsorted[i], unsorted[0]\n",
    "        BuildMinHeap(unsorted, 0, i)\n",
    "    return unsorted\n",
    "\n",
    "\n",
    "if __name__ == \"__main__\":\n",
    "    unsorted = [54,32,93,2,98,21]\n",
    "    print(heap_sort(unsorted))"
   ]
  },
  {
   "cell_type": "markdown",
   "metadata": {},
   "source": [
    "### BuildMinHeap"
   ]
  },
  {
   "cell_type": "code",
   "execution_count": 58,
   "metadata": {},
   "outputs": [
    {
     "name": "stdout",
     "output_type": "stream",
     "text": [
      "[98, 93, 54, 32, 21, 2]\n"
     ]
    }
   ],
   "source": [
    "import time\n",
    "\n",
    "def BuildMinHeap(unsorted, index, heapSize):\n",
    "    smallest = index\n",
    "    left = 2 * index + 1\n",
    "    right = 2 * index + 2\n",
    "    if left < heapSize and unsorted[left] < unsorted[smallest]:\n",
    "        smallest = left\n",
    "\n",
    "    if right < heapSize and unsorted[right] < unsorted[smallest]:\n",
    "        smallest = right\n",
    "\n",
    "    if smallest != index:\n",
    "        unsorted[smallest], unsorted[index] = unsorted[index], unsorted[smallest]\n",
    "        BuildMinHeap(unsorted, smallest, heapSize)\n",
    "\n",
    "\n",
    "def HeapSort(unsorted):\n",
    "    n = len(unsorted)\n",
    "    for i in range(n // 2 - 1, -1, -1):\n",
    "        BuildMinHeap(unsorted, i, n)\n",
    "    for i in range(n - 1, 0, -1):\n",
    "        unsorted[0], unsorted[i] = unsorted[i], unsorted[0]\n",
    "        BuildMinHeap(unsorted, 0, i)\n",
    "    return unsorted\n",
    "\n",
    "\n",
    "if __name__ == \"__main__\":\n",
    "    unsorted = [54,32,93,2,98,21]\n",
    "    print(HeapSort(unsorted))"
   ]
  },
  {
   "cell_type": "markdown",
   "metadata": {},
   "source": [
    "### HeapSort"
   ]
  },
  {
   "cell_type": "code",
   "execution_count": null,
   "metadata": {},
   "outputs": [],
   "source": []
  },
  {
   "cell_type": "code",
   "execution_count": null,
   "metadata": {},
   "outputs": [],
   "source": []
  }
 ],
 "metadata": {
  "kernelspec": {
   "display_name": "Python 3",
   "language": "python",
   "name": "python3"
  },
  "language_info": {
   "codemirror_mode": {
    "name": "ipython",
    "version": 3
   },
   "file_extension": ".py",
   "mimetype": "text/x-python",
   "name": "python",
   "nbconvert_exporter": "python",
   "pygments_lexer": "ipython3",
   "version": "3.8.10"
  }
 },
 "nbformat": 4,
 "nbformat_minor": 2
}
