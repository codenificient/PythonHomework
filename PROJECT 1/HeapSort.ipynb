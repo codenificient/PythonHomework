{
 "cells": [
  {
   "cell_type": "markdown",
   "id": "58b29186",
   "metadata": {},
   "source": [
    "# HeapSort Algorithm Using MinHeap in Python"
   ]
  },
  {
   "cell_type": "markdown",
   "id": "8f97a5d6",
   "metadata": {},
   "source": [
    "#### CSE 619 Design and Analysis of Algorithms - Fall 2021 - Christian Tioye"
   ]
  },
  {
   "cell_type": "code",
   "execution_count": 188,
   "id": "718e8854",
   "metadata": {},
   "outputs": [],
   "source": [
    "import time\n",
    "import random\n",
    "import matplotlib.pyplot as plt\n",
    "import numpy as np"
   ]
  },
  {
   "cell_type": "code",
   "execution_count": 189,
   "id": "da3d7168",
   "metadata": {},
   "outputs": [],
   "source": [
    "# %pip install matplotlib\n",
    "# %pip install numpy"
   ]
  },
  {
   "cell_type": "markdown",
   "id": "a126e503",
   "metadata": {},
   "source": [
    "### Definining the Build Min Heap function based by Max Heap from Github"
   ]
  },
  {
   "cell_type": "markdown",
   "id": "877456e6",
   "metadata": {},
   "source": [
    "Source: https://github.com/TheAlgorithms/Python/blob/master/sorts/heap_sort.py"
   ]
  },
  {
   "cell_type": "markdown",
   "id": "080c0be9",
   "metadata": {},
   "source": [
    "#### Define the MinHeapify function"
   ]
  },
  {
   "cell_type": "code",
   "execution_count": 190,
   "id": "35387ea1",
   "metadata": {},
   "outputs": [],
   "source": [
    "def MinHeapify(unsorted, index, heapSize):\n",
    "    # set the smallest value at the root node and define its left and right children as (2 x index + 1) and (2 x index + 2)\n",
    "    smallest, left, right = index, 2 * index + 1, 2 * index + 2\n",
    "    \n",
    "    # verify that root node has a left child and its index is valid\n",
    "    if left < heapSize and unsorted[left] < unsorted[smallest]:\n",
    "        smallest = left\n",
    "    \n",
    "    # verify that root node has a right child and index does not overflow\n",
    "    if right < heapSize and unsorted[right] < unsorted[smallest]:\n",
    "        smallest = right\n",
    "\n",
    "    # swap the root node with the smallest value in the Heap every time\n",
    "    if smallest != index:\n",
    "        unsorted[smallest], unsorted[index] = unsorted[index], unsorted[smallest]\n",
    "        # after swapping root with smallest node, rebuild the heap\n",
    "        MinHeapify(unsorted, smallest, heapSize)"
   ]
  },
  {
   "cell_type": "markdown",
   "id": "ef3aacb7",
   "metadata": {},
   "source": [
    "#### Define the Heap Sort function"
   ]
  },
  {
   "cell_type": "code",
   "execution_count": 191,
   "id": "d3a010f1",
   "metadata": {},
   "outputs": [],
   "source": [
    "def HeapSort(unsorted):\n",
    "    size = len(unsorted)\n",
    "    for i in range(size // 2 - 1, -1, -1):\n",
    "        MinHeapify(unsorted, i, size)\n",
    "    for i in range(size - 1, 0, -1):\n",
    "        unsorted[0], unsorted[i] = unsorted[i], unsorted[0]\n",
    "        MinHeapify(unsorted, 0, i)\n",
    "    return unsorted"
   ]
  },
  {
   "cell_type": "markdown",
   "id": "8df3949b",
   "metadata": {},
   "source": [
    "### Start of the Driver function"
   ]
  },
  {
   "cell_type": "code",
   "execution_count": 192,
   "id": "27039378",
   "metadata": {},
   "outputs": [],
   "source": [
    "if __name__ == \"__main__\":\n",
    "    unsorted = []\n",
    "    for num in range(500):\n",
    "        unsorted.append(random.randint(0, 101))"
   ]
  },
  {
   "cell_type": "markdown",
   "id": "08a76388",
   "metadata": {},
   "source": [
    "#### Plot a histogram of the input"
   ]
  },
  {
   "cell_type": "code",
   "execution_count": 193,
   "id": "1ddf50c7",
   "metadata": {},
   "outputs": [
    {
     "data": {
      "text/plain": [
       "(0.0, 70.0)"
      ]
     },
     "execution_count": 193,
     "metadata": {},
     "output_type": "execute_result"
    },
    {
     "data": {
      "image/png": "[encoded data removed]",
      "text/plain": [
       "<Figure size 432x288 with 1 Axes>"
      ]
     },
     "metadata": {
      "needs_background": "light"
     },
     "output_type": "display_data"
    }
   ],
   "source": [
    "n, bins, patches = plt.hist(x=unsorted, bins='auto', color='purple',\n",
    "                            alpha=0.7, rwidth=0.85)\n",
    "plt.grid(axis='y', alpha=0.75)\n",
    "plt.xlabel('Value')\n",
    "plt.ylabel('Frequency')\n",
    "plt.title('Histogram of the Unsorted Input Array')\n",
    "maxfreq = n.max()\n",
    "# Set a clean upper y-axis limit.\n",
    "plt.ylim(ymax=np.ceil(maxfreq / 10) * 10 if maxfreq % 10 else maxfreq + 10)"
   ]
  },
  {
   "cell_type": "markdown",
   "id": "afc0b4d0",
   "metadata": {},
   "source": [
    "#### Demo Timing the Heap Sort Function"
   ]
  },
  {
   "cell_type": "code",
   "execution_count": 194,
   "id": "3628e1ff",
   "metadata": {},
   "outputs": [
    {
     "name": "stdout",
     "output_type": "stream",
     "text": [
      "\n",
      "Created a MinHeap with 500 values:\n",
      "\n",
      "\t [101, 101, 101, 101, 101, 101, 100, 100, 100, 99, 99, 99, 99, 99, 99, 99, 99, 99, 98, 98] ... [3, 3, 3, 3, 3, 2, 2, 1, 1, 1, 1, 1, 1, 0, 0, 0, 0, 0, 0]\n",
      "\n",
      "The Final Sorted Array\n",
      "\n",
      "\t [0, 0, 0, 0, 0, 0, 0, 1, 1, 1, 1, 1, 1, 2, 2, 3, 3, 3, 3, 3] ... [98, 98, 98, 99, 99, 99, 99, 99, 99, 99, 99, 99, 100, 100, 100, 101, 101, 101, 101]\n",
      "\n",
      "HeapSort algorithm took 0.00512 seconds\n"
     ]
    }
   ],
   "source": [
    "tic = time.perf_counter()\n",
    "unsorted = HeapSort(unsorted)\n",
    "print(\"\\nCreated a MinHeap with 500 values:\\n\\n\\t\", unsorted[0:20], '...', unsorted[-20:-1])\n",
    "    \n",
    "sorted = []\n",
    "for idx in range(len(unsorted) - 1, 0, -1):\n",
    "    sorted.append(unsorted[idx])\n",
    "print(\"\\nThe Final Sorted Array\\n\\n\\t\", sorted[0:20], '...', sorted[-20:-1])\n",
    "toc = time.perf_counter()  \n",
    "print(f'\\nHeapSort algorithm took {toc - tic:0.5f} seconds')"
   ]
  },
  {
   "cell_type": "markdown",
   "id": "d9b4af17",
   "metadata": {},
   "source": [
    "## Insertion Sort Routine based on tutorial from Career Karma"
   ]
  },
  {
   "cell_type": "markdown",
   "id": "5a6a987b",
   "metadata": {},
   "source": [
    "Source: https://careerkarma.com/blog/python-insertion-sort/"
   ]
  },
  {
   "cell_type": "code",
   "execution_count": 195,
   "id": "cc3f5dbf",
   "metadata": {},
   "outputs": [],
   "source": [
    "def InsertionSort(unsorted):\n",
    "    for number in range(1, len(unsorted)):\n",
    "        current = unsorted[number]\n",
    "        index = number - 1\n",
    "\n",
    "        while index >= 0 and current < unsorted[index]:\n",
    "            unsorted[index + 1] = unsorted[index]\n",
    "            index -= 1\n",
    "\n",
    "            unsorted[index + 1] = current"
   ]
  },
  {
   "cell_type": "markdown",
   "id": "89966dac",
   "metadata": {},
   "source": [
    "#### Demo Timing the Insertion Sort Function"
   ]
  },
  {
   "cell_type": "code",
   "execution_count": 196,
   "id": "d8a69caa",
   "metadata": {},
   "outputs": [
    {
     "name": "stdout",
     "output_type": "stream",
     "text": [
      "\n",
      "Original Unsorted Array with 500 values:\n",
      "\n",
      "\t [101, 101, 101, 101, 101, 101, 100, 100, 100, 99, 99, 99, 99, 99, 99, 99, 99, 99, 98, 98] ... [3, 3, 3, 3, 3, 2, 2, 1, 1, 1, 1, 1, 1, 0, 0, 0, 0, 0, 0]\n",
      "\n",
      "The Final Sorted Array\n",
      "\n",
      "\t [0, 0, 0, 0, 0, 0, 0, 1, 1, 1, 1, 1, 1, 2, 2, 3, 3, 3, 3, 3] ... [98, 98, 99, 99, 99, 99, 99, 99, 99, 99, 99, 100, 100, 100, 101, 101, 101, 101, 101]\n",
      "\n",
      "Insertion Sort algorithm took 0.04437 seconds\n"
     ]
    }
   ],
   "source": [
    "print(\"\\nOriginal Unsorted Array with 500 values:\\n\\n\\t\", unsorted[0:20], '...', unsorted[-20:-1])\n",
    "toSort = []\n",
    "for indx in range(len(unsorted)):\n",
    "    toSort.append(unsorted[indx])\n",
    "tic = time.perf_counter()\n",
    "InsertionSort(toSort)\n",
    "print(\"\\nThe Final Sorted Array\\n\\n\\t\", toSort[0:20], '...', toSort[-20:-1])\n",
    "toc = time.perf_counter()  \n",
    "print(f'\\nInsertion Sort algorithm took {toc - tic:0.5f} seconds')"
   ]
  },
  {
   "cell_type": "markdown",
   "id": "de3ddeca",
   "metadata": {},
   "source": [
    "### Run Time Comparison with increasing input sizes"
   ]
  },
  {
   "cell_type": "code",
   "execution_count": 197,
   "id": "47061a22",
   "metadata": {},
   "outputs": [],
   "source": [
    "# Array of input sizes, an empty array to hold the input array and the runtimes for plotting\n",
    "inputSizes, HeapRuntimes, InsertRuntimes, numbers = [10, 50, 100, 1000, 10000, 100000], [], [], []"
   ]
  },
  {
   "cell_type": "code",
   "execution_count": 198,
   "id": "5ddc209e",
   "metadata": {},
   "outputs": [
    {
     "name": "stdout",
     "output_type": "stream",
     "text": [
      "Size of input  10\n",
      "Size of input  50\n",
      "Size of input  100\n",
      "Size of input  1000\n",
      "Size of input  10000\n",
      "Size of input  100000\n"
     ]
    }
   ],
   "source": [
    "# generate a certain size input and measure the running time for HeapSort algorithm\n",
    "for size in inputSizes:\n",
    "    for num in range(size):\n",
    "        numbers.append(random.randint(0, 101))\n",
    "    htic = time.perf_counter()\n",
    "    # create a min heap\n",
    "    unsortedNums = HeapSort(numbers)\n",
    "    sorted = []\n",
    "    # reverse the array\n",
    "    for idx in range(len(unsorted) - 1, 0, -1):\n",
    "        sorted.append(unsorted[idx])\n",
    "    htoc = time.perf_counter()\n",
    "    HeapRuntimes.append(round(htoc - htic, 4))\n",
    "    print(\"Size of input \", len(numbers))\n",
    "    # reset the input array for the next iteration\n",
    "    numbers = []"
   ]
  },
  {
   "cell_type": "code",
   "execution_count": 199,
   "id": "902d4a97",
   "metadata": {},
   "outputs": [
    {
     "name": "stdout",
     "output_type": "stream",
     "text": [
      "[0.0021, 0.0006, 0.0009, 0.0071, 0.0721, 1.0269]\n"
     ]
    }
   ],
   "source": [
    "print(HeapRuntimes)"
   ]
  },
  {
   "cell_type": "code",
   "execution_count": 200,
   "id": "490a5652",
   "metadata": {},
   "outputs": [
    {
     "name": "stdout",
     "output_type": "stream",
     "text": [
      "[]\n"
     ]
    }
   ],
   "source": [
    "print(numbers)"
   ]
  },
  {
   "cell_type": "code",
   "execution_count": 201,
   "id": "b8930bf0",
   "metadata": {},
   "outputs": [
    {
     "name": "stdout",
     "output_type": "stream",
     "text": [
      "Size of input array 10\n",
      "Size of input array 50\n",
      "Size of input array 100\n",
      "Size of input array 1000\n",
      "Size of input array 10000\n",
      "Size of input array 20000\n"
     ]
    }
   ],
   "source": [
    "# generate smaller size of input for the Insertion sort due to quadratic runtime\n",
    "for size in [10, 50, 100, 1000, 10000, 20000]:\n",
    "    for num in range(size):\n",
    "        numbers.append(random.randint(0, 101))\n",
    "    itic = time.perf_counter()\n",
    "    # sort the input array in place\n",
    "    InsertionSort(numbers)\n",
    "    itoc = time.perf_counter()\n",
    "    InsertRuntimes.append(round(itoc - itic, 4))\n",
    "    print(\"Size of input array\", len(numbers))\n",
    "    # reset the input array for next iteration\n",
    "    numbers = []"
   ]
  },
  {
   "cell_type": "code",
   "execution_count": 202,
   "id": "2b22d19a",
   "metadata": {},
   "outputs": [
    {
     "name": "stdout",
     "output_type": "stream",
     "text": [
      "[0.0, 0.0003, 0.001, 0.0726, 7.831, 27.3223]\n"
     ]
    }
   ],
   "source": [
    "print(InsertRuntimes)"
   ]
  },
  {
   "cell_type": "markdown",
   "id": "4097ab8b",
   "metadata": {},
   "source": [
    "### Plotting Algorithm runtimes to capture visual differences"
   ]
  },
  {
   "cell_type": "code",
   "execution_count": 203,
   "id": "ccc48678",
   "metadata": {},
   "outputs": [
    {
     "data": {
      "image/png": "[encoded data removed]",
      "text/plain": [
       "<Figure size 432x288 with 1 Axes>"
      ]
     },
     "metadata": {
      "needs_background": "light"
     },
     "output_type": "display_data"
    }
   ],
   "source": [
    "# Data for plotting\n",
    "plt.plot(inputSizes, HeapRuntimes)\n",
    "plt.plot([10, 50, 100, 1000, 10000, 20000], InsertRuntimes)\n",
    "\n",
    "plt.xlabel('Input Size - elements')\n",
    "plt.ylabel('Running Time - seconds')\n",
    "plt.title('Visualising the running times of Heap Sort vs Insertion Sort')\n",
    "plt.grid()\n",
    "\n",
    "# fig.savefig(\"project1.png\")\n",
    "plt.show()"
   ]
  },
  {
   "cell_type": "markdown",
   "id": "9377b3ce",
   "metadata": {},
   "source": [
    "#### The running time for the Insertion Sort algorithm increases dramatically as the input size increases, due to quadratic runtime. We were not able to run this algorithm using 100k input size. Heap Sort is extremely efficient even when the input size increases"
   ]
  }
 ],
 "metadata": {
  "kernelspec": {
   "display_name": "Python 3",
   "language": "python",
   "name": "python3"
  },
  "language_info": {
   "codemirror_mode": {
    "name": "ipython",
    "version": 3
   },
   "file_extension": ".py",
   "mimetype": "text/x-python",
   "name": "python",
   "nbconvert_exporter": "python",
   "pygments_lexer": "ipython3",
   "version": "3.8.10"
  }
 },
 "nbformat": 4,
 "nbformat_minor": 5
}
